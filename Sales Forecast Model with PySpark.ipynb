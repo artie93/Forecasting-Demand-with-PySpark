{
 "cells": [
  {
   "cell_type": "markdown",
   "id": "6918e18a-c248-4929-b552-7aee2057c0eb",
   "metadata": {},
   "source": [
    "It's simple to buy any product with a click and have it delivered to your door. Online shopping has been rapidly evolving over the last few years, making our lives easier. But behind the scenes, e-commerce companies face a complex challenge that needs to be addressed. \n",
    "\n",
    "Uncertainty plays a big role in how the supply chains plan and organize their operations to ensure that the products are delivered on time. These uncertainties can lead to challenges such as stockouts, delayed deliveries, and increased operational costs.\n",
    "\n",
    "You work for the Sales & Operations Planning (S&OP) team at a multinational e-commerce company. They need your help to assist in planning for the upcoming end-of-the-year sales. They want to use your insights to plan for promotional opportunities and manage their inventory. This effort is to ensure they have the right products in stock when needed and ensure their customers are satisfied with the prompt delivery to their doorstep.\n",
    "\n",
    "\n",
    "## The Data\n",
    "\n",
    "You are provided with a sales dataset to use. A summary and preview are provided below.\n",
    "\n",
    "# Online Retail.csv\n",
    "\n",
    "| Column     | Description              |\n",
    "|------------|--------------------------|\n",
    "| `'InvoiceNo'` | A 6-digit number uniquely assigned to each transaction |\n",
    "| `'StockCode'` | A 5-digit number uniquely assigned to each distinct product |\n",
    "| `'Description'` | The product name |\n",
    "| `'Quantity'` | The quantity of each product (item) per transaction |\n",
    "| `'UnitPrice'` | Product price per unit |\n",
    "| `'CustomerID'` | A 5-digit number uniquely assigned to each customer |\n",
    "| `'Country'` | The name of the country where each customer resides |\n",
    "| `'InvoiceDate'` | The day and time when each transaction was generated `\"MM/DD/YYYY\"` |\n",
    "| `'Year'` | The year when each transaction was generated |\n",
    "| `'Month'` | The month when each transaction was generated |\n",
    "| `'Week'` | The week when each transaction was generated (`1`-`52`) |\n",
    "| `'Day'` | The day of the month when each transaction was generated (`1`-`31`) |\n",
    "| `'DayOfWeek'` | The day of the weeke when each transaction was generated <br>(`0` = Monday, `6` = Sunday) |"
   ]
  },
  {
   "cell_type": "markdown",
   "id": "dfe249a5",
   "metadata": {},
   "source": [
    "# Instructions"
   ]
  },
  {
   "cell_type": "markdown",
   "id": "01f94e70",
   "metadata": {},
   "source": [
    "### Analyze the Online Retail.csv dataset and build a forecasting model to predict 'Quantity' of products sold.\n",
    "\n",
    "### 1 -Split the data into two sets based on the splitting date, \"2011-09-25\". All data up to and including this date should be in the training set, while data after this date should be in the test set. Return a pandas DataFrame, pd_daily_train_data, containing, at least, the columns \"Country\", \"StockCode\", \"InvoiceDate\", \"Quantity\".\n",
    "\n",
    "### 2 -Using your test set, calculate the Mean Absolute Error (MAE) for your forecast model for the 'Quantity' sold? Return a double (float) named mae.\n",
    "\n",
    "### 3 -How many units are expected to be sold during the week 39 of 2011? Store as an integer variable called quantity_sold_w39."
   ]
  },
  {
   "cell_type": "code",
   "execution_count": 167,
   "id": "81a07c66-a3d4-4fdd-9c3c-7b3a19b80d62",
   "metadata": {
    "executionCancelledAt": null,
    "executionTime": 695,
    "jupyter": {
     "outputs_hidden": false,
     "source_hidden": false
    },
    "lastExecutedAt": 1713728806791,
    "lastExecutedByKernel": "73e976a1-2c58-4285-a90f-ec8f8eb43927",
    "lastScheduledRunId": null,
    "lastSuccessfullyExecutedCode": "# Import required libraries\nfrom pyspark.sql import SparkSession\nfrom pyspark.ml.feature import VectorAssembler\nfrom pyspark.ml import Pipeline\nfrom pyspark.ml.regression import RandomForestRegressor\nfrom pyspark.sql.functions import col, dayofmonth, month, year,  to_date, to_timestamp, weekofyear, dayofweek\nfrom pyspark.ml.feature import StringIndexer\nfrom pyspark.ml.evaluation import RegressionEvaluator\n\n# Initialize Spark session\nmy_spark = SparkSession.builder.appName(\"SalesForecast\").getOrCreate()\n\n# Importing sales data\nsales_data = my_spark.read.csv(\n    \"Online Retail.csv\", header=True, inferSchema=True, sep=\",\")\n\n# Convert InvoiceDate to datetime \nsales_data = sales_data.withColumn(\"InvoiceDate\", to_date(\n    to_timestamp(col(\"InvoiceDate\"), \"d/M/yyyy H:mm\")))",
    "outputsMetadata": {
     "0": {
      "height": 38,
      "type": "stream"
     },
     "1": {
      "height": 59,
      "type": "stream"
     },
     "2": {
      "height": 38,
      "type": "stream"
     }
    }
   },
   "outputs": [
    {
     "name": "stderr",
     "output_type": "stream",
     "text": [
      "                                                                                \r"
     ]
    }
   ],
   "source": [
    "from pyspark.sql import SparkSession\n",
    "from pyspark.ml.feature import VectorAssembler\n",
    "from pyspark.ml import Pipeline\n",
    "from pyspark.ml.regression import RandomForestRegressor\n",
    "from pyspark.sql.functions import col, dayofmonth, month, year,  to_date, to_timestamp, weekofyear, dayofweek\n",
    "from pyspark.ml.feature import StringIndexer\n",
    "from pyspark.ml.evaluation import RegressionEvaluator\n",
    "\n",
    "my_spark = SparkSession.builder.appName(\"SalesForecast\").getOrCreate()\n",
    "\n",
    "sales_data = my_spark.read.csv(\"Online Retail.csv\", header=True, inferSchema=True, sep=\",\")\n",
    "\n",
    "\n",
    "sales_data = sales_data.withColumn(\"InvoiceDate\", to_date(to_timestamp(col(\"InvoiceDate\"), \"d/M/yyyy H:mm\")))"
   ]
  },
  {
   "cell_type": "markdown",
   "id": "88a2b4ec",
   "metadata": {},
   "source": [
    "## Some data analysis and aggregation first..."
   ]
  },
  {
   "cell_type": "code",
   "execution_count": 168,
   "id": "e38eaac6-eec0-461d-a815-a367d2e6097a",
   "metadata": {
    "executionCancelledAt": null,
    "executionTime": 147,
    "lastExecutedAt": 1713728806938,
    "lastExecutedByKernel": "73e976a1-2c58-4285-a90f-ec8f8eb43927",
    "lastScheduledRunId": null,
    "lastSuccessfullyExecutedCode": "sales_data.count()"
   },
   "outputs": [
    {
     "data": {
      "text/plain": [
       "384721"
      ]
     },
     "execution_count": 168,
     "metadata": {},
     "output_type": "execute_result"
    }
   ],
   "source": [
    "sales_data.count()"
   ]
  },
  {
   "cell_type": "code",
   "execution_count": 169,
   "id": "b5106e04-f9da-459f-a1cc-14e437fe001d",
   "metadata": {
    "executionCancelledAt": null,
    "executionTime": 62,
    "jupyter": {
     "outputs_hidden": false,
     "source_hidden": false
    },
    "lastExecutedAt": 1713728807000,
    "lastExecutedByKernel": "73e976a1-2c58-4285-a90f-ec8f8eb43927",
    "lastScheduledRunId": null,
    "lastSuccessfullyExecutedCode": "# Insert the code necessary to solve the assigned problems. Use as many code cells as you need.\ndf = sales_data.groupBy('Country','StockCode','InvoiceDate','Year','Month','Day','Week','DayOfWeek')",
    "outputsMetadata": {
     "0": {
      "height": 59,
      "type": "stream"
     }
    }
   },
   "outputs": [],
   "source": [
    "df = sales_data.groupBy('Country','StockCode','InvoiceDate','Year','Month','Day','Week','DayOfWeek')"
   ]
  },
  {
   "cell_type": "code",
   "execution_count": 170,
   "id": "c80bf63b-3883-4da9-a28f-eed6f2514a58",
   "metadata": {
    "executionCancelledAt": null,
    "executionTime": 50,
    "lastExecutedAt": 1713728807050,
    "lastExecutedByKernel": "73e976a1-2c58-4285-a90f-ec8f8eb43927",
    "lastScheduledRunId": null,
    "lastSuccessfullyExecutedCode": "df"
   },
   "outputs": [
    {
     "data": {
      "text/plain": [
       "<pyspark.sql.group.GroupedData at 0x7f38910557c0>"
      ]
     },
     "execution_count": 170,
     "metadata": {},
     "output_type": "execute_result"
    }
   ],
   "source": [
    "df"
   ]
  },
  {
   "cell_type": "code",
   "execution_count": 171,
   "id": "3fa6f1de-d356-4e64-bc7c-2b399ddf1f7d",
   "metadata": {
    "executionCancelledAt": null,
    "executionTime": 51,
    "lastExecutedAt": 1713728807101,
    "lastExecutedByKernel": "73e976a1-2c58-4285-a90f-ec8f8eb43927",
    "lastScheduledRunId": null,
    "lastSuccessfullyExecutedCode": "df1 = df.agg({\n    'Quantity':'sum',\n    'UnitPrice':'avg'\n})\ndf2 = df1.withColumnRenamed('sum(Quantity)','Quantity').withColumnRenamed('avg(UnitPrice)','UnitPrice')"
   },
   "outputs": [],
   "source": [
    "df1 = df.agg({\n",
    "    'Quantity':'sum',\n",
    "    'UnitPrice':'avg'\n",
    "})\n",
    "df2 = df1.withColumnRenamed('sum(Quantity)','Quantity').withColumnRenamed('avg(UnitPrice)','UnitPrice')"
   ]
  },
  {
   "cell_type": "code",
   "execution_count": 172,
   "id": "1ae4f5f4-ab9b-411b-9e71-a7047d73f61a",
   "metadata": {
    "executionCancelledAt": null,
    "executionTime": 841,
    "lastExecutedAt": 1713728807942,
    "lastExecutedByKernel": "73e976a1-2c58-4285-a90f-ec8f8eb43927",
    "lastScheduledRunId": null,
    "lastSuccessfullyExecutedCode": "df2.count()",
    "outputsMetadata": {
     "0": {
      "height": 38,
      "type": "stream"
     }
    }
   },
   "outputs": [
    {
     "name": "stderr",
     "output_type": "stream",
     "text": [
      "                                                                                \r"
     ]
    },
    {
     "data": {
      "text/plain": [
       "239976"
      ]
     },
     "execution_count": 172,
     "metadata": {},
     "output_type": "execute_result"
    }
   ],
   "source": [
    "df2.count()"
   ]
  },
  {
   "cell_type": "code",
   "execution_count": 173,
   "id": "2eda70bf-1f13-4a5e-aa04-2858222e9bb0",
   "metadata": {
    "executionCancelledAt": null,
    "executionTime": 923,
    "lastExecutedAt": 1713728808865,
    "lastExecutedByKernel": "73e976a1-2c58-4285-a90f-ec8f8eb43927",
    "lastScheduledRunId": null,
    "lastSuccessfullyExecutedCode": "df2.show(5)",
    "outputsMetadata": {
     "0": {
      "height": 38,
      "type": "stream"
     },
     "1": {
      "height": 391,
      "type": "stream"
     },
     "2": {
      "height": 38,
      "type": "stream"
     }
    }
   },
   "outputs": [
    {
     "name": "stderr",
     "output_type": "stream",
     "text": [
      "[Stage 360:============================>                            (1 + 1) / 2]\r"
     ]
    },
    {
     "name": "stdout",
     "output_type": "stream",
     "text": [
      "+--------------+---------+-----------+----+-----+---+----+---------+---------+--------+\n",
      "|       Country|StockCode|InvoiceDate|Year|Month|Day|Week|DayOfWeek|UnitPrice|Quantity|\n",
      "+--------------+---------+-----------+----+-----+---+----+---------+---------+--------+\n",
      "|United Kingdom|    22912| 2010-01-12|2010|    1| 12|   2|        1|     4.95|       3|\n",
      "|        France|    22659| 2010-01-12|2010|    1| 12|   2|        1|     1.95|      24|\n",
      "|United Kingdom|    21544| 2010-01-12|2010|    1| 12|   2|        1|     0.85|      12|\n",
      "|United Kingdom|    21098| 2010-01-12|2010|    1| 12|   2|        1|     1.25|      16|\n",
      "|        Norway|    85150| 2010-01-12|2010|    1| 12|   2|        1|     2.55|      12|\n",
      "+--------------+---------+-----------+----+-----+---+----+---------+---------+--------+\n",
      "only showing top 5 rows\n",
      "\n"
     ]
    },
    {
     "name": "stderr",
     "output_type": "stream",
     "text": [
      "                                                                                \r"
     ]
    }
   ],
   "source": [
    "df2.show(5)"
   ]
  },
  {
   "cell_type": "markdown",
   "id": "5bdee6d8",
   "metadata": {},
   "source": [
    "### With all data properly aggregated in daily sales intervals, we can now separate our dataset intro training and testing datasets, following the instructions to include all data up til 25th of september of 2011 as train data and the rest, as test data:"
   ]
  },
  {
   "cell_type": "code",
   "execution_count": 174,
   "id": "67c68f18-5322-40ce-a385-0e431bfdf931",
   "metadata": {
    "executionCancelledAt": null,
    "executionTime": 48,
    "lastExecutedAt": 1713728808913,
    "lastExecutedByKernel": "73e976a1-2c58-4285-a90f-ec8f8eb43927",
    "lastScheduledRunId": null,
    "lastSuccessfullyExecutedCode": "df2.createOrReplaceTempView('df2')"
   },
   "outputs": [],
   "source": [
    "df2.createOrReplaceTempView('df2')"
   ]
  },
  {
   "cell_type": "code",
   "execution_count": 176,
   "id": "63285588-41a2-4275-8865-fb9263f1691b",
   "metadata": {
    "executionCancelledAt": null,
    "executionTime": 50,
    "lastExecutedAt": 1713728809837,
    "lastExecutedByKernel": "73e976a1-2c58-4285-a90f-ec8f8eb43927",
    "lastScheduledRunId": null,
    "lastSuccessfullyExecutedCode": "test_df2 = my_spark.sql(\"\"\"\nSELECT *\nFROM df2\nWHERE InvoiceDate > CAST('2011-09-25' AS DATE)\"\"\")"
   },
   "outputs": [],
   "source": [
    "test_df2 = my_spark.sql(\"\"\"\n",
    "SELECT *\n",
    "FROM df2\n",
    "WHERE InvoiceDate > CAST('2011-09-25' AS DATE)\"\"\")"
   ]
  },
  {
   "cell_type": "code",
   "execution_count": 177,
   "id": "85e9c400-9504-43fc-b280-3edb75073c1d",
   "metadata": {
    "executionCancelledAt": null,
    "executionTime": 55,
    "lastExecutedAt": 1713728809893,
    "lastExecutedByKernel": "73e976a1-2c58-4285-a90f-ec8f8eb43927",
    "lastScheduledRunId": null,
    "lastSuccessfullyExecutedCode": "train_df2 = my_spark.sql(\"\"\"\nSELECT *\nFROM df2\nWHERE InvoiceDate <= CAST('2011-09-25' AS DATE)\"\"\")"
   },
   "outputs": [],
   "source": [
    "train_df2 = my_spark.sql(\"\"\"\n",
    "SELECT *\n",
    "FROM df2\n",
    "WHERE InvoiceDate <= CAST('2011-09-25' AS DATE)\"\"\")"
   ]
  },
  {
   "cell_type": "code",
   "execution_count": 178,
   "id": "1c8f5922-de14-4970-a68d-e449195e8d17",
   "metadata": {
    "executionCancelledAt": null,
    "executionTime": 4216,
    "lastExecutedAt": 1713728814110,
    "lastExecutedByKernel": "73e976a1-2c58-4285-a90f-ec8f8eb43927",
    "lastScheduledRunId": null,
    "lastSuccessfullyExecutedCode": "pd_daily_train_data = train_df2.toPandas()\npd_daily_test_data = test_df2.toPandas()",
    "outputsMetadata": {
     "0": {
      "height": 38,
      "type": "stream"
     }
    },
    "scrolled": true
   },
   "outputs": [
    {
     "name": "stderr",
     "output_type": "stream",
     "text": [
      "                                                                                \r"
     ]
    }
   ],
   "source": [
    "pd_daily_train_data = train_df2.toPandas()\n",
    "pd_daily_test_data = test_df2.toPandas()"
   ]
  },
  {
   "cell_type": "markdown",
   "id": "e252b8e1",
   "metadata": {},
   "source": [
    "## The first part of the assignment is concluded above, with the creation of a pandas dataframe for both train and test sets"
   ]
  },
  {
   "cell_type": "code",
   "execution_count": 180,
   "id": "4ee9394d-3696-433e-b7c6-16e2661cce21",
   "metadata": {
    "executionCancelledAt": null,
    "executionTime": 52,
    "lastExecutedAt": 1713728814297,
    "lastExecutedByKernel": "73e976a1-2c58-4285-a90f-ec8f8eb43927",
    "lastScheduledRunId": null,
    "lastSuccessfullyExecutedCode": "pd_daily_test_data.head()",
    "outputsMetadata": {
     "0": {
      "height": 211,
      "type": "dataFrame"
     }
    }
   },
   "outputs": [
    {
     "data": {
      "application/com.datacamp.data-table.v2+json": {
       "table": {
        "data": {
         "Country": [
          "United Kingdom",
          "United Kingdom",
          "United Kingdom",
          "United Kingdom",
          "United Kingdom"
         ],
         "Day": [
          1,
          1,
          1,
          1,
          1
         ],
         "DayOfWeek": [
          5,
          5,
          5,
          5,
          1
         ],
         "InvoiceDate": [
          "2011-10-01T00:00:00.000",
          "2011-10-01T00:00:00.000",
          "2011-10-01T00:00:00.000",
          "2011-10-01T00:00:00.000",
          "2011-11-01T00:00:00.000"
         ],
         "Month": [
          10,
          10,
          10,
          10,
          11
         ],
         "Quantity": [
          1,
          12,
          1,
          2,
          12
         ],
         "StockCode": [
          "22414",
          "22773",
          "22180",
          "20686",
          "82580"
         ],
         "UnitPrice": [
          7.95,
          1.25,
          9.95,
          3.25,
          0.73
         ],
         "Week": [
          39,
          39,
          39,
          39,
          44
         ],
         "Year": [
          2011,
          2011,
          2011,
          2011,
          2011
         ],
         "index": [
          0,
          1,
          2,
          3,
          4
         ]
        },
        "schema": {
         "fields": [
          {
           "name": "index",
           "type": "integer"
          },
          {
           "name": "Country",
           "type": "string"
          },
          {
           "name": "StockCode",
           "type": "string"
          },
          {
           "name": "InvoiceDate",
           "type": "string"
          },
          {
           "name": "Year",
           "type": "integer"
          },
          {
           "name": "Month",
           "type": "integer"
          },
          {
           "name": "Day",
           "type": "integer"
          },
          {
           "name": "Week",
           "type": "integer"
          },
          {
           "name": "DayOfWeek",
           "type": "integer"
          },
          {
           "name": "UnitPrice",
           "type": "number"
          },
          {
           "name": "Quantity",
           "type": "integer"
          }
         ],
         "pandas_version": "1.4.0",
         "primaryKey": [
          "index"
         ]
        }
       },
       "total_rows": 5,
       "truncation_type": null
      },
      "text/html": [
       "<div>\n",
       "<style scoped>\n",
       "    .dataframe tbody tr th:only-of-type {\n",
       "        vertical-align: middle;\n",
       "    }\n",
       "\n",
       "    .dataframe tbody tr th {\n",
       "        vertical-align: top;\n",
       "    }\n",
       "\n",
       "    .dataframe thead th {\n",
       "        text-align: right;\n",
       "    }\n",
       "</style>\n",
       "<table border=\"1\" class=\"dataframe\">\n",
       "  <thead>\n",
       "    <tr style=\"text-align: right;\">\n",
       "      <th></th>\n",
       "      <th>Country</th>\n",
       "      <th>StockCode</th>\n",
       "      <th>InvoiceDate</th>\n",
       "      <th>Year</th>\n",
       "      <th>Month</th>\n",
       "      <th>Day</th>\n",
       "      <th>Week</th>\n",
       "      <th>DayOfWeek</th>\n",
       "      <th>UnitPrice</th>\n",
       "      <th>Quantity</th>\n",
       "    </tr>\n",
       "  </thead>\n",
       "  <tbody>\n",
       "    <tr>\n",
       "      <th>0</th>\n",
       "      <td>United Kingdom</td>\n",
       "      <td>22414</td>\n",
       "      <td>2011-10-01</td>\n",
       "      <td>2011</td>\n",
       "      <td>10</td>\n",
       "      <td>1</td>\n",
       "      <td>39</td>\n",
       "      <td>5</td>\n",
       "      <td>7.95</td>\n",
       "      <td>1</td>\n",
       "    </tr>\n",
       "    <tr>\n",
       "      <th>1</th>\n",
       "      <td>United Kingdom</td>\n",
       "      <td>22773</td>\n",
       "      <td>2011-10-01</td>\n",
       "      <td>2011</td>\n",
       "      <td>10</td>\n",
       "      <td>1</td>\n",
       "      <td>39</td>\n",
       "      <td>5</td>\n",
       "      <td>1.25</td>\n",
       "      <td>12</td>\n",
       "    </tr>\n",
       "    <tr>\n",
       "      <th>2</th>\n",
       "      <td>United Kingdom</td>\n",
       "      <td>22180</td>\n",
       "      <td>2011-10-01</td>\n",
       "      <td>2011</td>\n",
       "      <td>10</td>\n",
       "      <td>1</td>\n",
       "      <td>39</td>\n",
       "      <td>5</td>\n",
       "      <td>9.95</td>\n",
       "      <td>1</td>\n",
       "    </tr>\n",
       "    <tr>\n",
       "      <th>3</th>\n",
       "      <td>United Kingdom</td>\n",
       "      <td>20686</td>\n",
       "      <td>2011-10-01</td>\n",
       "      <td>2011</td>\n",
       "      <td>10</td>\n",
       "      <td>1</td>\n",
       "      <td>39</td>\n",
       "      <td>5</td>\n",
       "      <td>3.25</td>\n",
       "      <td>2</td>\n",
       "    </tr>\n",
       "    <tr>\n",
       "      <th>4</th>\n",
       "      <td>United Kingdom</td>\n",
       "      <td>82580</td>\n",
       "      <td>2011-11-01</td>\n",
       "      <td>2011</td>\n",
       "      <td>11</td>\n",
       "      <td>1</td>\n",
       "      <td>44</td>\n",
       "      <td>1</td>\n",
       "      <td>0.73</td>\n",
       "      <td>12</td>\n",
       "    </tr>\n",
       "  </tbody>\n",
       "</table>\n",
       "</div>"
      ],
      "text/plain": [
       "          Country StockCode InvoiceDate  ...  DayOfWeek  UnitPrice  Quantity\n",
       "0  United Kingdom     22414  2011-10-01  ...          5       7.95         1\n",
       "1  United Kingdom     22773  2011-10-01  ...          5       1.25        12\n",
       "2  United Kingdom     22180  2011-10-01  ...          5       9.95         1\n",
       "3  United Kingdom     20686  2011-10-01  ...          5       3.25         2\n",
       "4  United Kingdom     82580  2011-11-01  ...          1       0.73        12\n",
       "\n",
       "[5 rows x 10 columns]"
      ]
     },
     "execution_count": 180,
     "metadata": {},
     "output_type": "execute_result"
    }
   ],
   "source": [
    "pd_daily_test_data.head()"
   ]
  },
  {
   "cell_type": "code",
   "execution_count": 181,
   "id": "4aa59330-a4b5-44ef-b0ec-d55a380bb827",
   "metadata": {
    "executionCancelledAt": null,
    "executionTime": 76,
    "lastExecutedAt": 1713728814373,
    "lastExecutedByKernel": "73e976a1-2c58-4285-a90f-ec8f8eb43927",
    "lastScheduledRunId": null,
    "lastSuccessfullyExecutedCode": "pd_daily_test_data.dtypes"
   },
   "outputs": [
    {
     "data": {
      "text/plain": [
       "Country         object\n",
       "StockCode       object\n",
       "InvoiceDate     object\n",
       "Year             int32\n",
       "Month            int32\n",
       "Day              int32\n",
       "Week             int32\n",
       "DayOfWeek        int32\n",
       "UnitPrice      float64\n",
       "Quantity         int64\n",
       "dtype: object"
      ]
     },
     "execution_count": 181,
     "metadata": {},
     "output_type": "execute_result"
    }
   ],
   "source": [
    "pd_daily_test_data.dtypes"
   ]
  },
  {
   "cell_type": "markdown",
   "id": "83fbb333",
   "metadata": {},
   "source": [
    "### Now we're off to build a model to forecast the quantity of items sold globally by S&OP\n",
    "\n",
    "### We want to be tidy and clean, so we'll organize all data preparation steps in a pipeline\n",
    "\n",
    "### Our predictions will generate the 'prediction' column that will be compared to the actual 'Quantity' column to measure the quality of our model according to the Mean Absolute Error, as solicited"
   ]
  },
  {
   "cell_type": "code",
   "execution_count": 182,
   "id": "19ba61d1-98ae-4b08-8d96-5968a80aa42e",
   "metadata": {
    "executionCancelledAt": null,
    "executionTime": 52,
    "lastExecutedAt": 1713728814425,
    "lastExecutedByKernel": "73e976a1-2c58-4285-a90f-ec8f8eb43927",
    "lastScheduledRunId": null,
    "lastSuccessfullyExecutedCode": "country_indexer = StringIndexer(inputCol='Country',outputCol='Country_idx').setHandleInvalid('keep')\nstock_code_indexer = StringIndexer(inputCol='StockCode',outputCol='StockCode_idx').setHandleInvalid('keep')\nassembler = VectorAssembler(inputCols=['Country_idx','StockCode_idx','Year','Month','Day','Week','DayOfWeek','UnitPrice'], outputCol='features')\nrf = RandomForestRegressor(featuresCol='features',labelCol='Quantity',maxBins=4000)\npipeline = Pipeline(stages=[country_indexer,stock_code_indexer,assembler,rf])"
   },
   "outputs": [],
   "source": [
    "country_indexer = StringIndexer(inputCol='Country',outputCol='Country_idx').setHandleInvalid('keep')\n",
    "\n",
    "stock_code_indexer = StringIndexer(inputCol='StockCode',outputCol='StockCode_idx').setHandleInvalid('keep')\n",
    "\n",
    "assembler = VectorAssembler(inputCols=['Country_idx','StockCode_idx','Year','Month','Day','Week','DayOfWeek','UnitPrice'], outputCol='features')\n",
    "\n",
    "rf = RandomForestRegressor(featuresCol='features',labelCol='Quantity',maxBins=4000)\n",
    "\n",
    "pipeline = Pipeline(stages=[country_indexer,stock_code_indexer,assembler,rf])"
   ]
  },
  {
   "cell_type": "code",
   "execution_count": 183,
   "id": "fd925e9f-da80-4b2a-840b-4dc9e477cd9b",
   "metadata": {
    "executionCancelledAt": null,
    "executionTime": 11315,
    "lastExecutedAt": 1713728825741,
    "lastExecutedByKernel": "73e976a1-2c58-4285-a90f-ec8f8eb43927",
    "lastScheduledRunId": null,
    "lastSuccessfullyExecutedCode": "model = pipeline.fit(train_df2)",
    "outputsMetadata": {
     "0": {
      "height": 38,
      "type": "stream"
     },
     "1": {
      "height": 59,
      "type": "stream"
     },
     "2": {
      "height": 38,
      "type": "stream"
     },
     "3": {
      "height": 59,
      "type": "stream"
     },
     "4": {
      "height": 38,
      "type": "stream"
     },
     "5": {
      "height": 59,
      "type": "stream"
     },
     "6": {
      "height": 38,
      "type": "stream"
     }
    }
   },
   "outputs": [
    {
     "name": "stderr",
     "output_type": "stream",
     "text": [
      "                                                                                \r"
     ]
    },
    {
     "name": "stdout",
     "output_type": "stream",
     "text": [
      "24/04/21 19:46:59 WARN DAGScheduler: Broadcasting large task binary with size 1094.8 KiB\n"
     ]
    },
    {
     "name": "stderr",
     "output_type": "stream",
     "text": [
      "                                                                                \r"
     ]
    },
    {
     "name": "stdout",
     "output_type": "stream",
     "text": [
      "24/04/21 19:47:01 WARN DAGScheduler: Broadcasting large task binary with size 1696.0 KiB\n"
     ]
    },
    {
     "name": "stderr",
     "output_type": "stream",
     "text": [
      "                                                                                \r"
     ]
    },
    {
     "name": "stdout",
     "output_type": "stream",
     "text": [
      "24/04/21 19:47:02 WARN DAGScheduler: Broadcasting large task binary with size 2.3 MiB\n"
     ]
    },
    {
     "name": "stderr",
     "output_type": "stream",
     "text": [
      "                                                                                \r"
     ]
    }
   ],
   "source": [
    "model = pipeline.fit(train_df2)"
   ]
  },
  {
   "cell_type": "code",
   "execution_count": 184,
   "id": "7b1e75dc-3122-4eac-831b-cea637300714",
   "metadata": {
    "executionCancelledAt": null,
    "executionTime": 242,
    "lastExecutedAt": 1713728825983,
    "lastExecutedByKernel": "73e976a1-2c58-4285-a90f-ec8f8eb43927",
    "lastScheduledRunId": null,
    "lastSuccessfullyExecutedCode": "predictions = model.transform(test_df2)"
   },
   "outputs": [],
   "source": [
    "predictions = model.transform(test_df2)"
   ]
  },
  {
   "cell_type": "code",
   "execution_count": 185,
   "id": "24fec21d-6562-4d4c-a510-1276e4912a86",
   "metadata": {
    "executionCancelledAt": null,
    "executionTime": 52,
    "lastExecutedAt": 1713728826037,
    "lastExecutedByKernel": "73e976a1-2c58-4285-a90f-ec8f8eb43927",
    "lastScheduledRunId": null,
    "lastSuccessfullyExecutedCode": "predictions = predictions.withColumn('prediction', col('prediction').cast('double'))"
   },
   "outputs": [],
   "source": [
    "predictions = predictions.withColumn('prediction', col('prediction').cast('double'))"
   ]
  },
  {
   "cell_type": "code",
   "execution_count": 186,
   "id": "1164b1e6-b9e3-4bd1-bd9d-0f0585bb0911",
   "metadata": {
    "executionCancelledAt": null,
    "executionTime": 48,
    "lastExecutedAt": 1713728826085,
    "lastExecutedByKernel": "73e976a1-2c58-4285-a90f-ec8f8eb43927",
    "lastScheduledRunId": null,
    "lastSuccessfullyExecutedCode": "mae_evaluator = RegressionEvaluator(metricName='mae',labelCol='Quantity',predictionCol='prediction')"
   },
   "outputs": [],
   "source": [
    "mae_evaluator = RegressionEvaluator(metricName='mae',labelCol='Quantity',predictionCol='prediction')"
   ]
  },
  {
   "cell_type": "code",
   "execution_count": 187,
   "id": "56ef839f-fe47-4a74-aa61-f45f31419254",
   "metadata": {
    "executionCancelledAt": null,
    "executionTime": 1299,
    "lastExecutedAt": 1713728827384,
    "lastExecutedByKernel": "73e976a1-2c58-4285-a90f-ec8f8eb43927",
    "lastScheduledRunId": null,
    "lastSuccessfullyExecutedCode": "mae = mae_evaluator.evaluate(predictions)",
    "outputsMetadata": {
     "0": {
      "height": 59,
      "type": "stream"
     }
    }
   },
   "outputs": [],
   "source": [
    "mae = mae_evaluator.evaluate(predictions)"
   ]
  },
  {
   "cell_type": "code",
   "execution_count": 188,
   "id": "f06c389e-cba1-4f60-8fd5-4e7841e8ab92",
   "metadata": {
    "executionCancelledAt": null,
    "executionTime": 48,
    "lastExecutedAt": 1713728827433,
    "lastExecutedByKernel": "73e976a1-2c58-4285-a90f-ec8f8eb43927",
    "lastScheduledRunId": null,
    "lastSuccessfullyExecutedCode": "print(mae)",
    "outputsMetadata": {
     "0": {
      "height": 38,
      "type": "stream"
     }
    }
   },
   "outputs": [
    {
     "name": "stdout",
     "output_type": "stream",
     "text": [
      "9.134251757431372\n"
     ]
    }
   ],
   "source": [
    "print(mae)"
   ]
  },
  {
   "cell_type": "markdown",
   "id": "6aa54bee",
   "metadata": {},
   "source": [
    "## There it is, our MAE is 9 units, which is very small, since we're talking globally!!"
   ]
  },
  {
   "cell_type": "markdown",
   "id": "d3d62eff",
   "metadata": {},
   "source": [
    "### Lastly, we group our predictions according to week and year to check how many items are expected to be sold on week 39..."
   ]
  },
  {
   "cell_type": "code",
   "execution_count": 189,
   "id": "a8f69f02-a44c-4907-a848-6409a3b33af9",
   "metadata": {
    "executionCancelledAt": null,
    "executionTime": 1094,
    "lastExecutedAt": 1713728828527,
    "lastExecutedByKernel": "73e976a1-2c58-4285-a90f-ec8f8eb43927",
    "lastScheduledRunId": null,
    "lastSuccessfullyExecutedCode": "week39 = predictions.groupBy('Year','Week').agg({\n    'prediction':'sum'\n}).filter(predictions.Week == 39).withColumnRenamed('sum(prediction)','weekly sales')\nweek39.show()",
    "outputsMetadata": {
     "0": {
      "height": 143,
      "type": "stream"
     },
     "1": {
      "height": 143,
      "type": "stream"
     },
     "2": {
      "height": 38,
      "type": "stream"
     }
    }
   },
   "outputs": [
    {
     "name": "stdout",
     "output_type": "stream",
     "text": [
      "+----+----+-----------------+\n",
      "|Year|Week|     weekly sales|\n",
      "+----+----+-----------------+\n",
      "|2011|  39|87134.50790900599|\n",
      "+----+----+-----------------+\n",
      "\n"
     ]
    }
   ],
   "source": [
    "week39 = predictions.groupBy('Year','Week').agg({\n",
    "    'prediction':'sum'\n",
    "}).filter(predictions.Week == 39).withColumnRenamed('sum(prediction)','weekly sales')\n",
    "week39.show()"
   ]
  },
  {
   "cell_type": "code",
   "execution_count": 190,
   "id": "082360e0-f5b8-4ef6-89e9-e7716b6be0c2",
   "metadata": {
    "executionCancelledAt": null,
    "executionTime": 789,
    "lastExecutedAt": 1713728829316,
    "lastExecutedByKernel": "73e976a1-2c58-4285-a90f-ec8f8eb43927",
    "lastScheduledRunId": null,
    "lastSuccessfullyExecutedCode": "r = int(week39.collect()[0][2])\nprint(r)",
    "outputsMetadata": {
     "0": {
      "height": 38,
      "type": "stream"
     },
     "1": {
      "height": 38,
      "type": "stream"
     },
     "2": {
      "height": 38,
      "type": "stream"
     }
    }
   },
   "outputs": [
    {
     "name": "stdout",
     "output_type": "stream",
     "text": [
      "87134\n"
     ]
    }
   ],
   "source": [
    "r = int(week39.collect()[0][2])\n",
    "print(r)"
   ]
  },
  {
   "cell_type": "code",
   "execution_count": 191,
   "id": "379bec97-6d58-49d1-a793-589a2644ab53",
   "metadata": {
    "executionCancelledAt": null,
    "executionTime": 53,
    "lastExecutedAt": 1713728829369,
    "lastExecutedByKernel": "73e976a1-2c58-4285-a90f-ec8f8eb43927",
    "lastScheduledRunId": null,
    "lastSuccessfullyExecutedCode": "quantity_sold_w39 = r"
   },
   "outputs": [],
   "source": [
    "quantity_sold_w39 = r"
   ]
  },
  {
   "cell_type": "markdown",
   "id": "fa8563ff",
   "metadata": {},
   "source": [
    "## Finally, we can expect a total of 87134 items to be sold globally on the week 39, which corresponds to the end of September/beginning of October!"
   ]
  },
  {
   "cell_type": "code",
   "execution_count": null,
   "id": "ad0c9187",
   "metadata": {},
   "outputs": [],
   "source": []
  }
 ],
 "metadata": {
  "colab": {
   "name": "Welcome to DataCamp Workspaces.ipynb",
   "provenance": []
  },
  "kernelspec": {
   "display_name": "Python 3 (ipykernel)",
   "language": "python",
   "name": "python3"
  },
  "language_info": {
   "codemirror_mode": {
    "name": "ipython",
    "version": 3
   },
   "file_extension": ".py",
   "mimetype": "text/x-python",
   "name": "python",
   "nbconvert_exporter": "python",
   "pygments_lexer": "ipython3",
   "version": "3.9.7"
  }
 },
 "nbformat": 4,
 "nbformat_minor": 5
}
